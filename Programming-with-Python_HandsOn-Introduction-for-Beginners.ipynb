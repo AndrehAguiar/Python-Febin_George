{
 "cells": [
  {
   "cell_type": "markdown",
   "metadata": {},
   "source": [
    "## VARIABLES - Exercise\n",
    "<hr />\n",
    "Declare a variable without breaking any of the rules"
   ]
  },
  {
   "cell_type": "code",
   "execution_count": 38,
   "metadata": {},
   "outputs": [
    {
     "name": "stdout",
     "output_type": "stream",
     "text": [
      "90\n"
     ]
    }
   ],
   "source": [
    "variable = 90\n",
    "print(variable)"
   ]
  },
  {
   "cell_type": "markdown",
   "metadata": {},
   "source": [
    "Declare this variable “break = 50”. Which rule does it break ?"
   ]
  },
  {
   "cell_type": "code",
   "execution_count": 39,
   "metadata": {},
   "outputs": [
    {
     "name": "stdout",
     "output_type": "stream",
     "text": [
      "50\n"
     ]
    }
   ],
   "source": [
    "_break = 50\n",
    "print(_break)"
   ]
  },
  {
   "cell_type": "markdown",
   "metadata": {},
   "source": [
    "Make changes to these variables so that they no longer break the rules to\n",
    "define a variable\n",
    "1. phone$number = 12345\n",
    "2. 123Name = “Benny”"
   ]
  },
  {
   "cell_type": "code",
   "execution_count": 40,
   "metadata": {},
   "outputs": [
    {
     "name": "stdout",
     "output_type": "stream",
     "text": [
      "12345\n",
      "Benny\n"
     ]
    }
   ],
   "source": [
    "phoneNumber = 12345\n",
    "name123 = 'Benny'\n",
    "print(phoneNumber, name123, sep='\\n')"
   ]
  },
  {
   "cell_type": "markdown",
   "metadata": {},
   "source": [
    "## NUMBERS - Exercise\n",
    "<hr />\n",
    "Write a program to assign the value 25 to an integer variable"
   ]
  },
  {
   "cell_type": "code",
   "execution_count": 16,
   "metadata": {},
   "outputs": [
    {
     "name": "stdout",
     "output_type": "stream",
     "text": [
      "<class 'int'> 25\n"
     ]
    }
   ],
   "source": [
    "intNumber = 25\n",
    "print(type(intNumber), intNumber)"
   ]
  },
  {
   "cell_type": "markdown",
   "metadata": {},
   "source": [
    "Write a program to declare a floating value 25.77 and convert it to integer and\n",
    "print the result"
   ]
  },
  {
   "cell_type": "code",
   "execution_count": 15,
   "metadata": {},
   "outputs": [
    {
     "name": "stdout",
     "output_type": "stream",
     "text": [
      "<class 'float'> 25.77\n",
      "<class 'int'> 25\n"
     ]
    }
   ],
   "source": [
    "floatNumber = 25.77\n",
    "intFloatNumber = int(floatNumber)\n",
    "print(type(floatNumber), floatNumber)\n",
    "print(type(intFloatNumber), intFloatNumber)"
   ]
  },
  {
   "cell_type": "markdown",
   "metadata": {},
   "source": [
    "## OPERATORS - Exercise\n",
    "<hr />\n",
    "Write a program to add two numbers"
   ]
  },
  {
   "cell_type": "code",
   "execution_count": 18,
   "metadata": {},
   "outputs": [
    {
     "name": "stdout",
     "output_type": "stream",
     "text": [
      "32\n"
     ]
    }
   ],
   "source": [
    "numA = 15\n",
    "numB = 17\n",
    "print(numA + numB)"
   ]
  },
  {
   "cell_type": "markdown",
   "metadata": {},
   "source": [
    "Solve this equation manually.\n",
    "2 + 3 * 4\n",
    "Now write a program to solve this. <b>20</b> <br />\n",
    "Did you get the same answer? <b>No</b>"
   ]
  },
  {
   "cell_type": "code",
   "execution_count": 22,
   "metadata": {},
   "outputs": [
    {
     "name": "stdout",
     "output_type": "stream",
     "text": [
      "14\n",
      "20\n"
     ]
    }
   ],
   "source": [
    "equaB = (2+3)*4\n",
    "equaA = 2+3*4\n",
    "print(equaA, equaB, sep='\\n')"
   ]
  },
  {
   "cell_type": "markdown",
   "metadata": {},
   "source": [
    "Use a logical operator in between two comparison operators and return the\n",
    "value as true"
   ]
  },
  {
   "cell_type": "code",
   "execution_count": 23,
   "metadata": {},
   "outputs": [
    {
     "data": {
      "text/plain": [
       "True"
      ]
     },
     "execution_count": 23,
     "metadata": {},
     "output_type": "execute_result"
    }
   ],
   "source": [
    "equaA != equaB and equaA < equaB"
   ]
  },
  {
   "cell_type": "markdown",
   "metadata": {},
   "source": [
    "## STRINGS - Exercise\n",
    "<hr />\n",
    "Write a program to create a string “Python programming is easy”"
   ]
  },
  {
   "cell_type": "code",
   "execution_count": 24,
   "metadata": {},
   "outputs": [
    {
     "name": "stdout",
     "output_type": "stream",
     "text": [
      "Python programming is easy\n"
     ]
    }
   ],
   "source": [
    "stringPython = 'Python programming is easy'\n",
    "print(stringPython)"
   ]
  },
  {
   "cell_type": "markdown",
   "metadata": {},
   "source": [
    "Now slice the first string and store “easy” in the second string"
   ]
  },
  {
   "cell_type": "code",
   "execution_count": 34,
   "metadata": {},
   "outputs": [
    {
     "name": "stdout",
     "output_type": "stream",
     "text": [
      "Python programming is\n",
      "easy\n"
     ]
    }
   ],
   "source": [
    "sliceString = stringPython[:-5]\n",
    "easyString = stringPython[-4:]\n",
    "print(sliceString)\n",
    "print(easyString)"
   ]
  },
  {
   "cell_type": "markdown",
   "metadata": {},
   "source": [
    "Replace “easy” in the second string with “ and powerful” and concatenate both\n",
    "the strings"
   ]
  },
  {
   "cell_type": "code",
   "execution_count": 37,
   "metadata": {},
   "outputs": [
    {
     "name": "stdout",
     "output_type": "stream",
     "text": [
      "Python programming is powerful\n"
     ]
    }
   ],
   "source": [
    "stringPython = stringPython.replace('easy', 'powerful')\n",
    "print(stringPython)"
   ]
  },
  {
   "cell_type": "markdown",
   "metadata": {},
   "source": [
    "## LIST - Exercise\n",
    "<hr />\n",
    "Write a program to create a list of 5 elements"
   ]
  },
  {
   "cell_type": "code",
   "execution_count": 45,
   "metadata": {},
   "outputs": [
    {
     "name": "stdout",
     "output_type": "stream",
     "text": [
      "['John', 'Jenny', 'Mark', 'Paul', 'Clark']\n"
     ]
    }
   ],
   "source": [
    "contactList = ['John', 'Jenny', 'Mark', 'Paul', 'Clark']\n",
    "print(contactList)"
   ]
  },
  {
   "cell_type": "markdown",
   "metadata": {},
   "source": [
    "Update the value at 3rd element of the list"
   ]
  },
  {
   "cell_type": "code",
   "execution_count": 46,
   "metadata": {},
   "outputs": [
    {
     "name": "stdout",
     "output_type": "stream",
     "text": [
      "['John', 'Jenny', 'Anna', 'Paul', 'Clark']\n"
     ]
    }
   ],
   "source": [
    "contactList[2] = 'Anna'\n",
    "print(contactList)"
   ]
  },
  {
   "cell_type": "markdown",
   "metadata": {},
   "source": [
    "Create another list of 3 elements. Now create a final result as a concatenation\n",
    "of the first two lists"
   ]
  },
  {
   "cell_type": "code",
   "execution_count": 47,
   "metadata": {},
   "outputs": [
    {
     "name": "stdout",
     "output_type": "stream",
     "text": [
      "['John', 'Jenny', 'Anna', 'Paul', 'Clark', 'Clarice', 'Kimberly', 'Judy']\n"
     ]
    }
   ],
   "source": [
    "newContacts = ['Clarice', 'Kimberly', 'Judy']\n",
    "contacts = contactList+newContacts\n",
    "print(contacts)"
   ]
  },
  {
   "cell_type": "code",
   "execution_count": 48,
   "metadata": {},
   "outputs": [
    {
     "name": "stdout",
     "output_type": "stream",
     "text": [
      "['Clara', 'John', 'Jenny', 'Anna', 'Paul', 'Clark', 'Clarice', 'Kimberly', 'Judy']\n"
     ]
    }
   ],
   "source": [
    "contacts.insert(0, 'Clara')\n",
    "print(contacts)"
   ]
  },
  {
   "cell_type": "markdown",
   "metadata": {},
   "source": [
    "## TUPLE - Exercise\n",
    "<hr />\n",
    "Write a program to create a tuple of 4 elements"
   ]
  },
  {
   "cell_type": "code",
   "execution_count": 77,
   "metadata": {},
   "outputs": [
    {
     "name": "stdout",
     "output_type": "stream",
     "text": [
      "('Mango', 'Orange', 'Kiwi', 'Papaya')\n"
     ]
    }
   ],
   "source": [
    "favoriteFruits = ('Mango', 'Orange', 'Kiwi', 'Papaya')\n",
    "print(favoriteFruits)"
   ]
  },
  {
   "cell_type": "markdown",
   "metadata": {},
   "source": [
    "Convert this tuple into a list"
   ]
  },
  {
   "cell_type": "code",
   "execution_count": 78,
   "metadata": {},
   "outputs": [
    {
     "name": "stdout",
     "output_type": "stream",
     "text": [
      "['Mango', 'Orange', 'Kiwi', 'Papaya']\n"
     ]
    }
   ],
   "source": [
    "favoriteFruits = list(favoriteFruits)\n",
    "print(favoriteFruits)"
   ]
  },
  {
   "cell_type": "markdown",
   "metadata": {},
   "source": [
    "Now delete the first element in this list and convert it back to tuple"
   ]
  },
  {
   "cell_type": "code",
   "execution_count": 79,
   "metadata": {},
   "outputs": [
    {
     "name": "stdout",
     "output_type": "stream",
     "text": [
      "('Orange', 'Kiwi', 'Papaya')\n"
     ]
    }
   ],
   "source": [
    "favoriteFruits.remove(favoriteFruits[0])\n",
    "favoriteFruits = tuple(favoriteFruits)\n",
    "print(favoriteFruits)"
   ]
  },
  {
   "cell_type": "markdown",
   "metadata": {},
   "source": [
    "## DICTIONARY - Exercise\n",
    "<hr />\n",
    "Write a program to create a dictionary with 5 key-value pairs"
   ]
  },
  {
   "cell_type": "code",
   "execution_count": 75,
   "metadata": {},
   "outputs": [
    {
     "name": "stdout",
     "output_type": "stream",
     "text": [
      "{'Sony': 300, 'Canon': 350, 'Nikon': 500, 'GoPro': 800, 'Kodak': 600}\n"
     ]
    }
   ],
   "source": [
    "dictCameras = {'Sony':300, 'Canon': 350, 'Nikon': 500, 'GoPro':800, 'Kodak':600}\n",
    "print(dictCameras)"
   ]
  },
  {
   "cell_type": "markdown",
   "metadata": {},
   "source": [
    "Update the value of a key"
   ]
  },
  {
   "cell_type": "code",
   "execution_count": 80,
   "metadata": {},
   "outputs": [
    {
     "name": "stdout",
     "output_type": "stream",
     "text": [
      "{'Sony': 300, 'Canon': 450, 'Nikon': 500, 'GoPro': 800, 'Kodak': 600}\n"
     ]
    }
   ],
   "source": [
    "dictCameras['Canon'] = 450\n",
    "print(dictCameras)"
   ]
  },
  {
   "cell_type": "markdown",
   "metadata": {},
   "source": [
    "Copy this dictionary to another dictionary and clear the first dictionary"
   ]
  },
  {
   "cell_type": "code",
   "execution_count": 83,
   "metadata": {},
   "outputs": [
    {
     "name": "stdout",
     "output_type": "stream",
     "text": [
      "{'Sony': 300, 'Canon': 450, 'Nikon': 500, 'GoPro': 800, 'Kodak': 600}\n",
      "{}\n"
     ]
    }
   ],
   "source": [
    "camerasPrices = dictCameras.copy()\n",
    "dictCameras.clear()\n",
    "print(camerasPrices, dictCameras, sep='\\n')"
   ]
  },
  {
   "cell_type": "markdown",
   "metadata": {},
   "source": [
    "## CONDITIONALS - Exercise\n",
    "<hr />\n",
    "Write a program to check if a number is less than 10"
   ]
  },
  {
   "cell_type": "code",
   "execution_count": 85,
   "metadata": {},
   "outputs": [
    {
     "name": "stdout",
     "output_type": "stream",
     "text": [
      "5 is less than 10\n"
     ]
    }
   ],
   "source": [
    "numA = 5\n",
    "numB = 10\n",
    "if numA < numB:\n",
    "    print('{} is less than {}'.format(numA, numB))"
   ]
  },
  {
   "cell_type": "markdown",
   "metadata": {},
   "source": [
    "Write a program to check if a given number is odd or even"
   ]
  },
  {
   "cell_type": "code",
   "execution_count": 87,
   "metadata": {},
   "outputs": [
    {
     "name": "stdout",
     "output_type": "stream",
     "text": [
      "5 is odd\n"
     ]
    }
   ],
   "source": [
    "if numA % 2 is 0:\n",
    "    print('{} is even'.formt(numA))\n",
    "else:\n",
    "    print('{} is odd'.format(numA))"
   ]
  },
  {
   "cell_type": "markdown",
   "metadata": {},
   "source": [
    "Write a program to check if a number is divisible by both 10 as well as 50. If it is\n",
    "divisible by 30 as well, print “This number is divisible by 10, 50 and 30”. If not, print\n",
    "“This number divisible by 10 and 50 but not 30”"
   ]
  },
  {
   "cell_type": "code",
   "execution_count": 88,
   "metadata": {
    "scrolled": true
   },
   "outputs": [
    {
     "name": "stdout",
     "output_type": "stream",
     "text": [
      "This number is divisible by 10 and 50 but not 30.\n"
     ]
    }
   ],
   "source": [
    "numB = 100\n",
    "if numB % 10 is 0 and numB % 50 is 0 and numB % 30 is 0:\n",
    "    print('This number is divisible by 10, 50 and 30.')\n",
    "    \n",
    "elif numB % 10 is 0 and numB % 50 is 0:\n",
    "    print('This number is divisible by 10 and 50 but not 30.')"
   ]
  },
  {
   "cell_type": "markdown",
   "metadata": {},
   "source": [
    "Check if a number is multiple of 3 and 7"
   ]
  },
  {
   "cell_type": "code",
   "execution_count": 93,
   "metadata": {},
   "outputs": [
    {
     "name": "stdout",
     "output_type": "stream",
     "text": [
      "Enter a number: 21\n",
      "The number 21 is divisible by 3 and 7\n"
     ]
    }
   ],
   "source": [
    "print('Enter a number: ', end='')\n",
    "num = int(input())\n",
    "if num % 3 is 0 and num % 7 is 0:\n",
    "    print('The number {} is divisible by 3 and 7'.format(num))\n",
    "else:\n",
    "    print('the number {} is not divisible by 3 and 7'.format(num))"
   ]
  },
  {
   "cell_type": "markdown",
   "metadata": {},
   "source": [
    "## LOOPS - Exercise\n",
    "<hr />\n",
    "Write a program to print numbers from 1 to 10"
   ]
  },
  {
   "cell_type": "code",
   "execution_count": 8,
   "metadata": {},
   "outputs": [
    {
     "name": "stdout",
     "output_type": "stream",
     "text": [
      "1 2 3 4 5 6 7 8 9 10 "
     ]
    }
   ],
   "source": [
    "for number in range(1, 11):\n",
    "    print(number, end=' ')"
   ]
  },
  {
   "cell_type": "markdown",
   "metadata": {},
   "source": [
    "Write a program to print the sum of odd numbers from 1 to 10"
   ]
  },
  {
   "cell_type": "code",
   "execution_count": 100,
   "metadata": {},
   "outputs": [
    {
     "name": "stdout",
     "output_type": "stream",
     "text": [
      "The sum of odd numbers is 25\n"
     ]
    }
   ],
   "source": [
    "odd = 0\n",
    "for number in range(1, 11):\n",
    "    if number % 2 is not 0:\n",
    "        odd+=number\n",
    "        \n",
    "print('The sum of odd numbers is {}'.format(odd))"
   ]
  },
  {
   "cell_type": "markdown",
   "metadata": {},
   "source": [
    "Write a program to check if a given number is prime or not"
   ]
  },
  {
   "cell_type": "code",
   "execution_count": 7,
   "metadata": {
    "scrolled": true
   },
   "outputs": [
    {
     "name": "stdout",
     "output_type": "stream",
     "text": [
      "Enter a number: 217\n",
      "The given number is prime\n"
     ]
    }
   ],
   "source": [
    "print('Enter a number:', end=' ')\n",
    "number = int(input())\n",
    "\n",
    "if number is not 0:\n",
    "    mult3 = sum(int(i) for i in str(number))\n",
    "    mult5 = int(str(number)[-1])\n",
    "    \n",
    "    if number is 1 or number % 2 is 0 and number is not 2:\n",
    "        print('The given number is not prime')\n",
    "        \n",
    "    elif mult3 % 3 is 0 and number is not 3:\n",
    "        print('The given number is not prime')\n",
    "        \n",
    "    elif mult5 is 0 and number > 5 or mult5 is 5 and number is not 5:\n",
    "        print('The given number is not prime')\n",
    "\n",
    "    elif number is 2 or number is 3 or number is 7:\n",
    "        print('The given number is prime')\n",
    "        \n",
    "    else:\n",
    "        sqrt = number ** 0.5\n",
    "        div = 3 if sqrt < 7 else 7\n",
    "        \n",
    "        while div <= sqrt:\n",
    "            if sqrt % div is 0:\n",
    "                print('The given number is not prime')\n",
    "                break\n",
    "            div+=2\n",
    "        else:\n",
    "            print('The given number is prime')\n",
    "else:\n",
    "    print('The division by {} dosen\\'t exist'.format(number))"
   ]
  },
  {
   "cell_type": "markdown",
   "metadata": {},
   "source": [
    "Check if a book exists in your collection of books"
   ]
  },
  {
   "cell_type": "code",
   "execution_count": 3,
   "metadata": {},
   "outputs": [
    {
     "name": "stdout",
     "output_type": "stream",
     "text": [
      "Enter the name of the book: The seven habits of highly effective people\n",
      "Yes, I do have that book!\n"
     ]
    }
   ],
   "source": [
    "collectionOfBooks = ['The Alchemist', 'How to win friends and influence people', 'The seven habits of highly effective people']\n",
    "\n",
    "print('Enter the name of the book:', end=' ')\n",
    "bookToChecked = input()\n",
    "\n",
    "for book in collectionOfBooks:\n",
    "    if book == bookToChecked:\n",
    "        print('Yes, I do have that book!')\n",
    "        break\n",
    "else:\n",
    "    print('No, I do not have that book!')"
   ]
  },
  {
   "cell_type": "markdown",
   "metadata": {},
   "source": [
    "Check if a book exists in your collection of books without loop"
   ]
  },
  {
   "cell_type": "code",
   "execution_count": 4,
   "metadata": {},
   "outputs": [
    {
     "name": "stdout",
     "output_type": "stream",
     "text": [
      "Enter the name of the book: The Alchemist 2\n",
      "No, I do not have that book!\n"
     ]
    }
   ],
   "source": [
    "collectionOfBooks = ['The Alchemist', 'How to win friends and influence people', 'The seven habits of highly effective people']\n",
    "\n",
    "print('Enter the name of the book:', end=' ')\n",
    "bookToChecked = input()\n",
    "\n",
    "if bookToChecked in list(collectionOfBooks):\n",
    "    print('Yes, I do have that book!')\n",
    "    \n",
    "else:\n",
    "    print('No, I do not have that book!')"
   ]
  },
  {
   "cell_type": "markdown",
   "metadata": {},
   "source": [
    "## FUNCTIONS - Exercise\n",
    "<hr />\n",
    "Write a function to print “Hello, World!”"
   ]
  },
  {
   "cell_type": "code",
   "execution_count": 9,
   "metadata": {},
   "outputs": [
    {
     "name": "stdout",
     "output_type": "stream",
     "text": [
      "Hello, World!\n"
     ]
    }
   ],
   "source": [
    "def helloWorld():\n",
    "    print('Hello, World!')\n",
    "\n",
    "helloWorld()"
   ]
  },
  {
   "cell_type": "markdown",
   "metadata": {},
   "source": [
    "Write a function that accepts two parameters and returns their sum"
   ]
  },
  {
   "cell_type": "code",
   "execution_count": 10,
   "metadata": {},
   "outputs": [
    {
     "data": {
      "text/plain": [
       "96"
      ]
     },
     "execution_count": 10,
     "metadata": {},
     "output_type": "execute_result"
    }
   ],
   "source": [
    "def sumValues(numA, numB):\n",
    "    return(numA + numB)\n",
    "\n",
    "sumValues(39, 57)"
   ]
  },
  {
   "cell_type": "markdown",
   "metadata": {},
   "source": [
    "Write a function that accepts 3 sides of a triangle and returns the type of the\n",
    "triangle\n",
    "** Additional info:\n",
    "Types of triangle -\n",
    " 1. Equilateral triangle -> All the 3 sides are equal (Ex: 10, 10, 10)\n",
    " 2. Isosceles triangle -> 2 sides are equal (Ex: 10, 10, 20)\n",
    " 3. Scalene triangle -> No sides are equal (Ex: 10, 20, 30)"
   ]
  },
  {
   "cell_type": "code",
   "execution_count": 23,
   "metadata": {},
   "outputs": [
    {
     "name": "stdout",
     "output_type": "stream",
     "text": [
      "Enter the side 1: 5\n",
      "Enter the side 2: 3\n",
      "Enter the side 3: 2\n"
     ]
    },
    {
     "data": {
      "text/plain": [
       "\"It's not a triangle\""
      ]
     },
     "execution_count": 23,
     "metadata": {},
     "output_type": "execute_result"
    }
   ],
   "source": [
    "def checkTriangle(sideA, sideB, sideC):\n",
    "    \n",
    "    dif1, sum1 = sideB - sideC, sideB + sideC\n",
    "    dif2, sum2 = sideA - sideC, sideA + sideB\n",
    "    dif3, sum3 = sideA - sideB, sideA + sideB\n",
    "\n",
    "    if dif1 < sideA and sideA < sum1 and dif2 < sideB and sideB < sum2 and dif3 < sideC and sideC < sum3:\n",
    "        \n",
    "        if sideA is sideB and sideB is not sideC or sideA is sideC and sideC is not sideB or sideB is sideC and sideC is not sideA:\n",
    "            return('Isosceles triangle')\n",
    "    \n",
    "        elif sideA is sideB and sideB is sideC:\n",
    "            return('Equilateral traingle')\n",
    "        \n",
    "        elif sideA is not sideB and sideA is not sideC and sideB is not sideC:\n",
    "            return('Scalene triangle')\n",
    "    \n",
    "    else:\n",
    "        return('It\\'s not a triangle')\n",
    "i = 0\n",
    "side =[]\n",
    "while i < 3:\n",
    "    print('Enter the side {}:'.format(i+1), end=' ')\n",
    "    side.append(int(input()))\n",
    "    i+=1\n",
    "    \n",
    "checkTriangle(side[0], side[1], side[2])"
   ]
  },
  {
   "cell_type": "markdown",
   "metadata": {},
   "source": [
    "Find the greatest among two numbers"
   ]
  },
  {
   "cell_type": "code",
   "execution_count": 28,
   "metadata": {
    "scrolled": true
   },
   "outputs": [
    {
     "name": "stdout",
     "output_type": "stream",
     "text": [
      "Enter the first number: 321456\n",
      "Enter the second number: 654\n",
      "\n",
      "The first number is greater\n",
      "The maximum number = 321456.0\n"
     ]
    }
   ],
   "source": [
    "def findMaximum(numA, numB):\n",
    "    \n",
    "    if numA > numB:\n",
    "        print('\\nThe first number is greater')\n",
    "        return(numA)\n",
    "    \n",
    "    elif numA < numB :\n",
    "        print('\\nThe second number is greater')\n",
    "        return(numB)\n",
    "    \n",
    "    else:\n",
    "        print('\\nBoth the numbers are equal')\n",
    "        return(numA)\n",
    "    \n",
    "print('Enter the first number: ', end='')\n",
    "numA = float(input())\n",
    "\n",
    "print('Enter the second number: ', end='')\n",
    "numB = float(input())\n",
    "\n",
    "maxNumber = findMaximum(numA, numB)\n",
    "print('The maximum number = {}'.format(maxNumber))"
   ]
  },
  {
   "cell_type": "markdown",
   "metadata": {},
   "source": [
    "### Problem Statement\n",
    "Assume you are the teacher of a class.\n",
    "Write a Python program to:\n",
    "<ol>\n",
    "    <li>Read the names and total marks scored by students of your class of at least 3 or more students.</li>\n",
    "    <li>Rank the top 3 students of your class.</li>\n",
    "    <li>Provide a cash reward of <i>&#36;500</i> to the student who secured first rank, <i>&#36;300</i> to the student who secured second rank and <i>&#36;100</i> to the student who third rank. The value of a cash reward cannot be modified.</li>\n",
    "    <li>Make a statement of appreciation to the students who secured 950 marks and above</li>\n",
    "</ol>"
   ]
  },
  {
   "cell_type": "code",
   "execution_count": 2,
   "metadata": {
    "scrolled": false
   },
   "outputs": [
    {
     "name": "stdout",
     "output_type": "stream",
     "text": [
      "Enter the number of students (minimum = 3): 4\n",
      "\n",
      "Enter the student Name: Andre\n",
      "Enter the Andre's Mark: 950\n",
      "\n",
      "Enter the student Name: Tiago\n",
      "Enter the Tiago's Mark: 980\n",
      "\n",
      "Enter the student Name: Bruno\n",
      "Enter the Bruno's Mark: 990\n",
      "\n",
      "Enter the student Name: Alexandre\n",
      "Enter the Alexandre's Mark: 970\n",
      "\n",
      "The first's Bruno, with the mark of 990.0 and his reward's $500\n",
      "\n",
      "The second's Tiago, with the mark of 980.0 and his reward's $300\n",
      "\n",
      "The third's Alexandre, with the mark of 970.0 and his reward's $100\n",
      "\n",
      "Congratulations Andre, your mark is greater than 950!\n",
      "\n",
      "Congratulations Tiago, your mark is greater than 950!\n",
      "\n",
      "Congratulations Bruno, your mark is greater than 950!\n",
      "\n",
      "Congratulations Alexandre, your mark is greater than 950!\n"
     ]
    }
   ],
   "source": [
    "def readStudentsDetails():\n",
    "    n = 0\n",
    "    dictStudents = {}\n",
    "\n",
    "    while n < 3:\n",
    "        print('Enter the number of students (minimum = 3): ', end='')\n",
    "        n = int(input())\n",
    "\n",
    "    while n > len(dictStudents):\n",
    "\n",
    "        try:      \n",
    "\n",
    "            print('\\nEnter the student Name: ', end='')\n",
    "            name = str(input())\n",
    "            name = checkStudent(dictStudents, name)\n",
    "\n",
    "            print('Enter the {}\\'s Mark: '.format(name), end='')\n",
    "            mark = float(input())        \n",
    "\n",
    "            dictStudents[name] = mark\n",
    "\n",
    "        except ValueError:\n",
    "            print('\\nThe mark need to be a number. Please, insert the {}\\'s valid mark!'.format(name))\n",
    "            \n",
    "    return(dictStudents)  \n",
    "\n",
    "\n",
    "def checkStudent(dict, str):\n",
    "    listAnswerYes = ['Yes', 'yes', 'Y', 'y']\n",
    "    listAnswerNo = ['No', 'no', 'N', 'n']\n",
    "    \n",
    "    if str in dict:\n",
    "        \n",
    "        answer = ''\n",
    "        while answer not in listAnswerYes or answer not in listAnswerNo:\n",
    "            print('Do you want to update the {}\\'s mark? Enter y or n.'.format(str))\n",
    "            answer = input()\n",
    "\n",
    "            if answer in list(listAnswerYes):\n",
    "                return(str)\n",
    "            \n",
    "            elif answer in list(listAnswerNo):\n",
    "                print('Enter a different Name for the student: ', end='')\n",
    "                return(input())\n",
    "    else:\n",
    "        return(str)\n",
    "    \n",
    "def checkMarks(str, float):\n",
    "    print('\\nCongratulations {}, your mark is greater than 950!'.format(str)) if float >= 950 else ''\n",
    "    \n",
    "\n",
    "def getAppreciates(dictStudents):\n",
    "    for i in range(len(dictStudents)):\n",
    "\n",
    "        name = list(dictStudents.keys())[i]\n",
    "        mark = dictStudents[list(dictStudents.keys())[i]]\n",
    "\n",
    "        checkMarks(name, mark) \n",
    "        \n",
    "        \n",
    "def getTopThree(dict):\n",
    "    \n",
    "    rewards = (500, 300, 100)\n",
    "    position = ['first', 'second', 'third']\n",
    "    \n",
    "    topThree = sorted(dictStudents.items(), key=lambda item: item[1], reverse = True)    \n",
    "\n",
    "    for i, student in enumerate(topThree[:3]):\n",
    "        print('\\nThe {}\\'s {}, with the mark of {} and his reward\\'s ${}'.format(position[i], student[0],student[1],rewards[i]))\n",
    "\n",
    "\n",
    "dictStudents = readStudentsDetails()\n",
    "\n",
    "getTopThree(dictStudents)\n",
    "\n",
    "getAppreciates(dictStudents)       "
   ]
  }
 ],
 "metadata": {
  "kernelspec": {
   "display_name": "Python 3",
   "language": "python",
   "name": "python3"
  },
  "language_info": {
   "codemirror_mode": {
    "name": "ipython",
    "version": 3
   },
   "file_extension": ".py",
   "mimetype": "text/x-python",
   "name": "python",
   "nbconvert_exporter": "python",
   "pygments_lexer": "ipython3",
   "version": "3.7.4"
  }
 },
 "nbformat": 4,
 "nbformat_minor": 2
}
